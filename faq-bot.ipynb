{
 "cells": [
  {
   "cell_type": "code",
   "execution_count": null,
   "id": "ee0e9499",
   "metadata": {},
   "outputs": [],
   "source": [
    "import os\n",
    "from langchain.prompts import PromptTemplate\n",
    "from langchain_groq import ChatGroq\n",
    "import getpass"
   ]
  },
  {
   "cell_type": "code",
   "execution_count": 2,
   "id": "a38786fa",
   "metadata": {},
   "outputs": [],
   "source": [
    "if not os.environ.get(\"GROQ_API_KEY\"):\n",
    "  os.environ[\"GROQ_API_KEY\"] = getpass.getpass(\"Enter API key for Google Gemini: \")"
   ]
  },
  {
   "cell_type": "code",
   "execution_count": 3,
   "id": "4cc2dfbc",
   "metadata": {},
   "outputs": [],
   "source": [
    "chatbot = ChatGroq(\n",
    "    model=\"llama-3.1-8b-instant\",  # Popular Groq model\n",
    "    temperature=0.7,\n",
    ")"
   ]
  },
  {
   "cell_type": "code",
   "execution_count": 4,
   "id": "4d303bf3",
   "metadata": {},
   "outputs": [
    {
     "data": {
      "text/plain": [
       "ChatGroq(client=<groq.resources.chat.completions.Completions object at 0x7a57639321e0>, async_client=<groq.resources.chat.completions.AsyncCompletions object at 0x7a57636f2180>, model_name='llama-3.1-8b-instant', model_kwargs={}, groq_api_key=SecretStr('**********'))"
      ]
     },
     "execution_count": 4,
     "metadata": {},
     "output_type": "execute_result"
    }
   ],
   "source": [
    "chatbot"
   ]
  },
  {
   "cell_type": "code",
   "execution_count": 5,
   "id": "59c88c9a",
   "metadata": {},
   "outputs": [],
   "source": [
    "faq = [\n",
    "    {\n",
    "        \"question\": \"What is EVM?\",\n",
    "        \"answer\": \"EVM stands for Electronic Voting Machine, used to record and count votes electronically.\"\n",
    "    },\n",
    "    {\n",
    "        \"question\": \"How does an EVM work?\",\n",
    "        \"answer\": \"EVM allows voters to cast their vote by pressing a button, which is securely stored and later counted electronically.\"\n",
    "    },\n",
    "    {\n",
    "        \"question\": \"Is EVM secure?\",\n",
    "        \"answer\": \"Yes, EVMs are designed with multiple layers of security and cannot be connected to the internet, reducing hacking risks.\"\n",
    "    },\n",
    "    {\n",
    "        \"question\": \"Who uses EVM?\",\n",
    "        \"answer\": \"EVMs are widely used in elections by governments and election commissions to ensure fast and accurate vote counting.\"\n",
    "    },\n",
    "    {\n",
    "        \"question\": \"Can an EVM be tampered with?\",\n",
    "        \"answer\": \"EVMs are built with strong security protocols and physical seals. Any tampering attempt can be easily detected.\"\n",
    "    }\n",
    "];\n"
   ]
  },
  {
   "cell_type": "code",
   "execution_count": 6,
   "id": "2cfbafb5",
   "metadata": {},
   "outputs": [],
   "source": [
    "llm = ChatGroq(model_name=\"openai/gpt-oss-20b\", temperature=0)\n",
    "\n",
    "faq_template = PromptTemplate(\n",
    "    input_variables=[\"question\"],\n",
    "    template=\"You are an AI chatbot. Answer this question based on the provided FAQ data:\\n{faq_data}\\nQuestion: {question}\"\n",
    ")"
   ]
  },
  {
   "cell_type": "code",
   "execution_count": 7,
   "id": "3ef2929b",
   "metadata": {},
   "outputs": [],
   "source": [
    "faq_chain = faq_template | llm"
   ]
  },
  {
   "cell_type": "code",
   "execution_count": 8,
   "id": "a04b520c",
   "metadata": {},
   "outputs": [],
   "source": [
    "def chatbot():\n",
    "    print(\"Welcome to the AI FAQ Chatbo!, Ask Me about agents and their benifits. Type `exit` to stop.\")\n",
    "    \n",
    "    while True:\n",
    "        user_input = input(\"You: \")\n",
    "        if user_input.lower() == \"exit\":\n",
    "            print(\"Goodbye\")\n",
    "            break;\n",
    "        response = faq_chain.invoke({\"question\": user_input, \"faq_data\" : faq})\n",
    "        print(f\"Bot: {response.content}\")\n"
   ]
  },
  {
   "cell_type": "code",
   "execution_count": 9,
   "id": "6995f1ad",
   "metadata": {},
   "outputs": [
    {
     "name": "stdout",
     "output_type": "stream",
     "text": [
      "Welcome to the AI FAQ Chatbo!, Ask Me about agents and their benifits. Type `exit` to stop.\n",
      "Bot: Hello! 👋 How can I help you with information about Electronic Voting Machines?\n",
      "Goodbye\n"
     ]
    },
    {
     "data": {
      "text/plain": [
       "None"
      ]
     },
     "metadata": {},
     "output_type": "display_data"
    }
   ],
   "source": [
    "display(chatbot())"
   ]
  }
 ],
 "metadata": {
  "kernelspec": {
   "display_name": ".venv",
   "language": "python",
   "name": "python3"
  },
  "language_info": {
   "codemirror_mode": {
    "name": "ipython",
    "version": 3
   },
   "file_extension": ".py",
   "mimetype": "text/x-python",
   "name": "python",
   "nbconvert_exporter": "python",
   "pygments_lexer": "ipython3",
   "version": "3.12.3"
  }
 },
 "nbformat": 4,
 "nbformat_minor": 5
}
